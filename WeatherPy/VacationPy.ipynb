{
 "cells": [
  {
   "cell_type": "markdown",
   "metadata": {},
   "source": [
    "# VacationPy\n",
    "----\n",
    "\n",
    "#### Note\n",
    "* Keep an eye on your API usage. Use https://developers.google.com/maps/reporting/gmp-reporting as reference for how to monitor your usage and billing.\n",
    "\n",
    "* Instructions have been included for each segment. You do not have to follow them exactly, but they are included to help you think through the steps."
   ]
  },
  {
   "cell_type": "markdown",
   "metadata": {},
   "source": [
    "# Observations\n",
    "1. From the humidity heatmap we can see that cities close to the ocean tend to have higher humidity level, inner land cities have lower humidity.\n",
    "2. Peru, South Africa, Japan, New Zealand, Spain are countries with higher humidity level compare to other countries. \n",
    "3. Countires in northern Africa and Asia showed very low humidity level. "
   ]
  },
  {
   "cell_type": "code",
   "execution_count": 91,
   "metadata": {},
   "outputs": [],
   "source": [
    "# Dependencies and Setup\n",
    "import matplotlib.pyplot as plt\n",
    "import pandas as pd\n",
    "import numpy as np\n",
    "import requests\n",
    "import gmaps\n",
    "import os\n",
    "import string\n",
    "\n",
    "# Import API key\n",
    "from api_keys import g_key"
   ]
  },
  {
   "cell_type": "markdown",
   "metadata": {},
   "source": [
    "### Store Part I results into DataFrame\n",
    "* Load the csv exported in Part I to a DataFrame"
   ]
  },
  {
   "cell_type": "code",
   "execution_count": 3,
   "metadata": {},
   "outputs": [
    {
     "data": {
      "text/html": [
       "<div>\n",
       "<style scoped>\n",
       "    .dataframe tbody tr th:only-of-type {\n",
       "        vertical-align: middle;\n",
       "    }\n",
       "\n",
       "    .dataframe tbody tr th {\n",
       "        vertical-align: top;\n",
       "    }\n",
       "\n",
       "    .dataframe thead th {\n",
       "        text-align: right;\n",
       "    }\n",
       "</style>\n",
       "<table border=\"1\" class=\"dataframe\">\n",
       "  <thead>\n",
       "    <tr style=\"text-align: right;\">\n",
       "      <th></th>\n",
       "      <th>Unnamed: 0</th>\n",
       "      <th>City</th>\n",
       "      <th>Lat</th>\n",
       "      <th>Lng</th>\n",
       "      <th>Max Temp</th>\n",
       "      <th>Humidity</th>\n",
       "      <th>Cloudiness</th>\n",
       "      <th>Wind Speed</th>\n",
       "      <th>Country</th>\n",
       "      <th>Date</th>\n",
       "    </tr>\n",
       "  </thead>\n",
       "  <tbody>\n",
       "    <tr>\n",
       "      <th>0</th>\n",
       "      <td>0</td>\n",
       "      <td>Angoulême</td>\n",
       "      <td>45.6500</td>\n",
       "      <td>0.1500</td>\n",
       "      <td>54.21</td>\n",
       "      <td>91</td>\n",
       "      <td>100</td>\n",
       "      <td>3.44</td>\n",
       "      <td>FR</td>\n",
       "      <td>1651211301</td>\n",
       "    </tr>\n",
       "    <tr>\n",
       "      <th>1</th>\n",
       "      <td>1</td>\n",
       "      <td>Fethiye</td>\n",
       "      <td>36.6217</td>\n",
       "      <td>29.1164</td>\n",
       "      <td>62.47</td>\n",
       "      <td>46</td>\n",
       "      <td>1</td>\n",
       "      <td>4.12</td>\n",
       "      <td>TR</td>\n",
       "      <td>1651211302</td>\n",
       "    </tr>\n",
       "    <tr>\n",
       "      <th>2</th>\n",
       "      <td>2</td>\n",
       "      <td>Mocuba</td>\n",
       "      <td>-16.8392</td>\n",
       "      <td>36.9856</td>\n",
       "      <td>67.93</td>\n",
       "      <td>90</td>\n",
       "      <td>62</td>\n",
       "      <td>5.08</td>\n",
       "      <td>MZ</td>\n",
       "      <td>1651211302</td>\n",
       "    </tr>\n",
       "    <tr>\n",
       "      <th>3</th>\n",
       "      <td>3</td>\n",
       "      <td>Acatlán</td>\n",
       "      <td>20.1500</td>\n",
       "      <td>-98.4500</td>\n",
       "      <td>57.72</td>\n",
       "      <td>76</td>\n",
       "      <td>61</td>\n",
       "      <td>2.33</td>\n",
       "      <td>MX</td>\n",
       "      <td>1651211304</td>\n",
       "    </tr>\n",
       "    <tr>\n",
       "      <th>4</th>\n",
       "      <td>4</td>\n",
       "      <td>La Ronge</td>\n",
       "      <td>55.1001</td>\n",
       "      <td>-105.2842</td>\n",
       "      <td>41.25</td>\n",
       "      <td>87</td>\n",
       "      <td>100</td>\n",
       "      <td>6.91</td>\n",
       "      <td>CA</td>\n",
       "      <td>1651211126</td>\n",
       "    </tr>\n",
       "  </tbody>\n",
       "</table>\n",
       "</div>"
      ],
      "text/plain": [
       "   Unnamed: 0       City      Lat       Lng  Max Temp  Humidity  Cloudiness  \\\n",
       "0           0  Angoulême  45.6500    0.1500     54.21        91         100   \n",
       "1           1    Fethiye  36.6217   29.1164     62.47        46           1   \n",
       "2           2     Mocuba -16.8392   36.9856     67.93        90          62   \n",
       "3           3    Acatlán  20.1500  -98.4500     57.72        76          61   \n",
       "4           4   La Ronge  55.1001 -105.2842     41.25        87         100   \n",
       "\n",
       "   Wind Speed Country        Date  \n",
       "0        3.44      FR  1651211301  \n",
       "1        4.12      TR  1651211302  \n",
       "2        5.08      MZ  1651211302  \n",
       "3        2.33      MX  1651211304  \n",
       "4        6.91      CA  1651211126  "
      ]
     },
     "execution_count": 3,
     "metadata": {},
     "output_type": "execute_result"
    }
   ],
   "source": [
    "cities_df = pd.DataFrame(pd.read_csv('output_data/cities.csv'))\n",
    "cities_df.head()\n"
   ]
  },
  {
   "cell_type": "markdown",
   "metadata": {},
   "source": [
    "### Humidity Heatmap\n",
    "* Configure gmaps.\n",
    "* Use the Lat and Lng as locations and Humidity as the weight.\n",
    "* Add Heatmap layer to map."
   ]
  },
  {
   "cell_type": "code",
   "execution_count": 106,
   "metadata": {},
   "outputs": [
    {
     "data": {
      "text/plain": [
       "99"
      ]
     },
     "execution_count": 106,
     "metadata": {},
     "output_type": "execute_result"
    }
   ],
   "source": [
    "gmaps.configure(api_key=g_key)\n",
    "humidity = cities_df['Humidity']\n",
    "humidity.max()"
   ]
  },
  {
   "cell_type": "code",
   "execution_count": 111,
   "metadata": {},
   "outputs": [
    {
     "data": {
      "application/vnd.jupyter.widget-view+json": {
       "model_id": "8113624427e643a684854b83cd110432",
       "version_major": 2,
       "version_minor": 0
      },
      "text/plain": [
       "Figure(layout=FigureLayout(height='420px'))"
      ]
     },
     "metadata": {},
     "output_type": "display_data"
    }
   ],
   "source": [
    "locations = cities_df[['Lat', 'Lng']]\n",
    "\n",
    "fig = gmaps.figure()\n",
    "\n",
    "heat_layer = gmaps.heatmap_layer(locations, weights = humidity, dissipating= False, max_intensity= 300, point_radius=5)\n",
    "\n",
    "fig.add_layer(heat_layer)\n",
    "\n",
    "fig"
   ]
  },
  {
   "cell_type": "markdown",
   "metadata": {},
   "source": [
    "### Create new DataFrame fitting weather criteria\n",
    "* Narrow down the cities to fit weather conditions.\n",
    "* Drop any rows will null values."
   ]
  },
  {
   "cell_type": "code",
   "execution_count": 95,
   "metadata": {},
   "outputs": [
    {
     "data": {
      "text/html": [
       "<div>\n",
       "<style scoped>\n",
       "    .dataframe tbody tr th:only-of-type {\n",
       "        vertical-align: middle;\n",
       "    }\n",
       "\n",
       "    .dataframe tbody tr th {\n",
       "        vertical-align: top;\n",
       "    }\n",
       "\n",
       "    .dataframe thead th {\n",
       "        text-align: right;\n",
       "    }\n",
       "</style>\n",
       "<table border=\"1\" class=\"dataframe\">\n",
       "  <thead>\n",
       "    <tr style=\"text-align: right;\">\n",
       "      <th></th>\n",
       "      <th>Unnamed: 0</th>\n",
       "      <th>City</th>\n",
       "      <th>Lat</th>\n",
       "      <th>Lng</th>\n",
       "      <th>Max Temp</th>\n",
       "      <th>Humidity</th>\n",
       "      <th>Cloudiness</th>\n",
       "      <th>Wind Speed</th>\n",
       "      <th>Country</th>\n",
       "      <th>Date</th>\n",
       "    </tr>\n",
       "  </thead>\n",
       "  <tbody>\n",
       "    <tr>\n",
       "      <th>6</th>\n",
       "      <td>6</td>\n",
       "      <td>East London</td>\n",
       "      <td>-33.0153</td>\n",
       "      <td>27.9116</td>\n",
       "      <td>74.34</td>\n",
       "      <td>46</td>\n",
       "      <td>0</td>\n",
       "      <td>8.05</td>\n",
       "      <td>ZA</td>\n",
       "      <td>1651211305</td>\n",
       "    </tr>\n",
       "    <tr>\n",
       "      <th>44</th>\n",
       "      <td>44</td>\n",
       "      <td>Saint George</td>\n",
       "      <td>37.1041</td>\n",
       "      <td>-113.5841</td>\n",
       "      <td>70.39</td>\n",
       "      <td>8</td>\n",
       "      <td>0</td>\n",
       "      <td>6.91</td>\n",
       "      <td>US</td>\n",
       "      <td>1651211126</td>\n",
       "    </tr>\n",
       "    <tr>\n",
       "      <th>134</th>\n",
       "      <td>136</td>\n",
       "      <td>Coahuayana Viejo</td>\n",
       "      <td>18.7333</td>\n",
       "      <td>-103.6833</td>\n",
       "      <td>72.18</td>\n",
       "      <td>79</td>\n",
       "      <td>0</td>\n",
       "      <td>1.57</td>\n",
       "      <td>MX</td>\n",
       "      <td>1651211389</td>\n",
       "    </tr>\n",
       "    <tr>\n",
       "      <th>242</th>\n",
       "      <td>245</td>\n",
       "      <td>Erzin</td>\n",
       "      <td>36.9559</td>\n",
       "      <td>36.2000</td>\n",
       "      <td>74.64</td>\n",
       "      <td>47</td>\n",
       "      <td>0</td>\n",
       "      <td>1.68</td>\n",
       "      <td>TR</td>\n",
       "      <td>1651211462</td>\n",
       "    </tr>\n",
       "    <tr>\n",
       "      <th>267</th>\n",
       "      <td>271</td>\n",
       "      <td>Belyy Yar</td>\n",
       "      <td>53.6039</td>\n",
       "      <td>91.3903</td>\n",
       "      <td>71.49</td>\n",
       "      <td>20</td>\n",
       "      <td>0</td>\n",
       "      <td>8.95</td>\n",
       "      <td>RU</td>\n",
       "      <td>1651211479</td>\n",
       "    </tr>\n",
       "    <tr>\n",
       "      <th>414</th>\n",
       "      <td>421</td>\n",
       "      <td>Taoudenni</td>\n",
       "      <td>22.6783</td>\n",
       "      <td>-3.9836</td>\n",
       "      <td>77.02</td>\n",
       "      <td>13</td>\n",
       "      <td>0</td>\n",
       "      <td>7.61</td>\n",
       "      <td>ML</td>\n",
       "      <td>1651211575</td>\n",
       "    </tr>\n",
       "    <tr>\n",
       "      <th>552</th>\n",
       "      <td>562</td>\n",
       "      <td>Buckeye</td>\n",
       "      <td>33.3703</td>\n",
       "      <td>-112.5838</td>\n",
       "      <td>78.03</td>\n",
       "      <td>24</td>\n",
       "      <td>0</td>\n",
       "      <td>8.68</td>\n",
       "      <td>US</td>\n",
       "      <td>1651211660</td>\n",
       "    </tr>\n",
       "  </tbody>\n",
       "</table>\n",
       "</div>"
      ],
      "text/plain": [
       "     Unnamed: 0              City      Lat       Lng  Max Temp  Humidity  \\\n",
       "6             6       East London -33.0153   27.9116     74.34        46   \n",
       "44           44      Saint George  37.1041 -113.5841     70.39         8   \n",
       "134         136  Coahuayana Viejo  18.7333 -103.6833     72.18        79   \n",
       "242         245             Erzin  36.9559   36.2000     74.64        47   \n",
       "267         271         Belyy Yar  53.6039   91.3903     71.49        20   \n",
       "414         421         Taoudenni  22.6783   -3.9836     77.02        13   \n",
       "552         562           Buckeye  33.3703 -112.5838     78.03        24   \n",
       "\n",
       "     Cloudiness  Wind Speed Country        Date  \n",
       "6             0        8.05      ZA  1651211305  \n",
       "44            0        6.91      US  1651211126  \n",
       "134           0        1.57      MX  1651211389  \n",
       "242           0        1.68      TR  1651211462  \n",
       "267           0        8.95      RU  1651211479  \n",
       "414           0        7.61      ML  1651211575  \n",
       "552           0        8.68      US  1651211660  "
      ]
     },
     "execution_count": 95,
     "metadata": {},
     "output_type": "execute_result"
    }
   ],
   "source": [
    "# Drop any rows with nul values\n",
    "clean_cities_df = cities_df.dropna(how = 'any')\n",
    "\n",
    "# Filter the cities using the following conditions:\n",
    "# A max temperature lower than 80 degrees but higher than 70.\n",
    "# Wind speed less than 10 mph.\n",
    "# Zero cloudiness.\n",
    "# Drop any rows that don't satisfy all three conditions. You want to be sure the weather is ideal.\n",
    "\n",
    "filtered_cities_df = clean_cities_df.loc[(clean_cities_df['Max Temp'] > 70) & (clean_cities_df['Max Temp'] < 80) & (clean_cities_df['Wind Speed'] < 10) & (clean_cities_df['Cloudiness'] == 0)]\n",
    "filtered_cities_df"
   ]
  },
  {
   "cell_type": "markdown",
   "metadata": {},
   "source": [
    "### Hotel Map\n",
    "* Store into variable named `hotel_df`.\n",
    "* Add a \"Hotel Name\" column to the DataFrame.\n",
    "* Set parameters to search for hotels with 5000 meters.\n",
    "* Hit the Google Places API for each city's coordinates.\n",
    "* Store the first Hotel result into the DataFrame.\n",
    "* Plot markers on top of the heatmap."
   ]
  },
  {
   "cell_type": "code",
   "execution_count": 102,
   "metadata": {},
   "outputs": [
    {
     "data": {
      "text/html": [
       "<div>\n",
       "<style scoped>\n",
       "    .dataframe tbody tr th:only-of-type {\n",
       "        vertical-align: middle;\n",
       "    }\n",
       "\n",
       "    .dataframe tbody tr th {\n",
       "        vertical-align: top;\n",
       "    }\n",
       "\n",
       "    .dataframe thead th {\n",
       "        text-align: right;\n",
       "    }\n",
       "</style>\n",
       "<table border=\"1\" class=\"dataframe\">\n",
       "  <thead>\n",
       "    <tr style=\"text-align: right;\">\n",
       "      <th></th>\n",
       "      <th>City</th>\n",
       "      <th>Country</th>\n",
       "      <th>Lat</th>\n",
       "      <th>Lng</th>\n",
       "      <th>Hotel Name</th>\n",
       "    </tr>\n",
       "  </thead>\n",
       "  <tbody>\n",
       "    <tr>\n",
       "      <th>0</th>\n",
       "      <td>East London</td>\n",
       "      <td>ZA</td>\n",
       "      <td>-33.0153</td>\n",
       "      <td>27.9116</td>\n",
       "      <td></td>\n",
       "    </tr>\n",
       "    <tr>\n",
       "      <th>1</th>\n",
       "      <td>Saint George</td>\n",
       "      <td>US</td>\n",
       "      <td>37.1041</td>\n",
       "      <td>-113.5841</td>\n",
       "      <td></td>\n",
       "    </tr>\n",
       "    <tr>\n",
       "      <th>2</th>\n",
       "      <td>Coahuayana Viejo</td>\n",
       "      <td>MX</td>\n",
       "      <td>18.7333</td>\n",
       "      <td>-103.6833</td>\n",
       "      <td></td>\n",
       "    </tr>\n",
       "    <tr>\n",
       "      <th>3</th>\n",
       "      <td>Erzin</td>\n",
       "      <td>TR</td>\n",
       "      <td>36.9559</td>\n",
       "      <td>36.2000</td>\n",
       "      <td></td>\n",
       "    </tr>\n",
       "    <tr>\n",
       "      <th>4</th>\n",
       "      <td>Belyy Yar</td>\n",
       "      <td>RU</td>\n",
       "      <td>53.6039</td>\n",
       "      <td>91.3903</td>\n",
       "      <td></td>\n",
       "    </tr>\n",
       "    <tr>\n",
       "      <th>5</th>\n",
       "      <td>Taoudenni</td>\n",
       "      <td>ML</td>\n",
       "      <td>22.6783</td>\n",
       "      <td>-3.9836</td>\n",
       "      <td></td>\n",
       "    </tr>\n",
       "    <tr>\n",
       "      <th>6</th>\n",
       "      <td>Buckeye</td>\n",
       "      <td>US</td>\n",
       "      <td>33.3703</td>\n",
       "      <td>-112.5838</td>\n",
       "      <td></td>\n",
       "    </tr>\n",
       "  </tbody>\n",
       "</table>\n",
       "</div>"
      ],
      "text/plain": [
       "               City Country      Lat       Lng Hotel Name\n",
       "0       East London      ZA -33.0153   27.9116           \n",
       "1      Saint George      US  37.1041 -113.5841           \n",
       "2  Coahuayana Viejo      MX  18.7333 -103.6833           \n",
       "3             Erzin      TR  36.9559   36.2000           \n",
       "4         Belyy Yar      RU  53.6039   91.3903           \n",
       "5         Taoudenni      ML  22.6783   -3.9836           \n",
       "6           Buckeye      US  33.3703 -112.5838           "
      ]
     },
     "execution_count": 102,
     "metadata": {},
     "output_type": "execute_result"
    }
   ],
   "source": [
    "# Store the city name, latitude, longitude into a data frame\n",
    "hotel_df = filtered_cities_df[['City', 'Country', 'Lat', 'Lng']].copy()\n",
    "\n",
    "# Add a new column \"Hotel Name\" to the data frame\n",
    "hotel_df['Hotel Name'] = \"\"\n",
    "\n",
    "hotel_df.reset_index(drop=True)"
   ]
  },
  {
   "cell_type": "code",
   "execution_count": 103,
   "metadata": {},
   "outputs": [
    {
     "name": "stdout",
     "output_type": "stream",
     "text": [
      "Missing field/result... skipping\n"
     ]
    }
   ],
   "source": [
    "# Create a params dict that will update with new city each iteration\n",
    "params = {\n",
    "    \"key\" : g_key,\n",
    "    \"radius\" : 5000,\n",
    "    \"types\": \"lodging\",\n",
    "    }\n",
    "\n",
    "# Loop through the hotel_df and run a lat/lng search for each city\n",
    "for index, row in hotel_df.iterrows():\n",
    "\n",
    "    lat = row['Lat']\n",
    "    lng = row['Lng']\n",
    "\n",
    "    params['location'] = f'{lat},{lng}'\n",
    "\n",
    "    base_url = \"https://maps.googleapis.com/maps/api/place/nearbysearch/json\"\n",
    "\n",
    "\n",
    "    hotel_name = requests.get(base_url, params=params)\n",
    "\n",
    "    hotel_name = hotel_name.json()\n",
    "    \n",
    "    try:\n",
    "        hotel_df.loc[index,'Hotel Name'] = hotel_name[\"results\"][0][\"name\"]\n",
    "    \n",
    "    except (KeyError, IndexError): \n",
    "        print(\"Missing field/result... skipping\")\n"
   ]
  },
  {
   "cell_type": "code",
   "execution_count": 104,
   "metadata": {},
   "outputs": [],
   "source": [
    "# NOTE: Do not change any of the code in this cell\n",
    "\n",
    "# Using the template add the hotel marks to the heatmap\n",
    "info_box_template = \"\"\"\n",
    "<dl>\n",
    "<dt>Name</dt><dd>{Hotel Name}</dd>\n",
    "<dt>City</dt><dd>{City}</dd>\n",
    "<dt>Country</dt><dd>{Country}</dd>\n",
    "</dl>\n",
    "\"\"\"\n",
    "# Store the DataFrame Row\n",
    "# NOTE: be sure to update with your DataFrame name\n",
    "hotel_info = [info_box_template.format(**row) for index, row in hotel_df.iterrows()]\n",
    "locations = hotel_df[[\"Lat\", \"Lng\"]]"
   ]
  },
  {
   "cell_type": "code",
   "execution_count": 105,
   "metadata": {},
   "outputs": [
    {
     "data": {
      "application/vnd.jupyter.widget-view+json": {
       "model_id": "d11435c4485b49cca5f84eaf4096bc38",
       "version_major": 2,
       "version_minor": 0
      },
      "text/plain": [
       "Figure(layout=FigureLayout(height='420px'))"
      ]
     },
     "metadata": {},
     "output_type": "display_data"
    }
   ],
   "source": [
    "# Add marker layer ontop of heat map\n",
    "marker_layer = gmaps.marker_layer(locations, info_box_content=hotel_info )\n",
    "fig.add_layer(marker_layer)\n",
    "\n",
    "# Display figure\n",
    "fig\n"
   ]
  },
  {
   "cell_type": "code",
   "execution_count": null,
   "metadata": {},
   "outputs": [],
   "source": []
  }
 ],
 "metadata": {
  "interpreter": {
   "hash": "4f593a442f57f399df1249bae09d66ab91b641a7de920b725ba3debee9319e53"
  },
  "kernelspec": {
   "display_name": "pydev",
   "language": "python",
   "name": "python3"
  },
  "language_info": {
   "codemirror_mode": {
    "name": "ipython",
    "version": 3
   },
   "file_extension": ".py",
   "mimetype": "text/x-python",
   "name": "python",
   "nbconvert_exporter": "python",
   "pygments_lexer": "ipython3",
   "version": "3.9.7"
  },
  "latex_envs": {
   "LaTeX_envs_menu_present": true,
   "autoclose": false,
   "autocomplete": true,
   "bibliofile": "biblio.bib",
   "cite_by": "apalike",
   "current_citInitial": 1,
   "eqLabelWithNumbers": true,
   "eqNumInitial": 1,
   "hotkeys": {
    "equation": "Ctrl-E",
    "itemize": "Ctrl-I"
   },
   "labels_anchors": false,
   "latex_user_defs": false,
   "report_style_numbering": false,
   "user_envs_cfg": false
  }
 },
 "nbformat": 4,
 "nbformat_minor": 4
}
